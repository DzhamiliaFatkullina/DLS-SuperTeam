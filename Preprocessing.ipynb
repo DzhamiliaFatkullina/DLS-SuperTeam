{
 "cells": [
  {
   "cell_type": "markdown",
   "id": "38b23b25",
   "metadata": {},
   "source": [
    "# Preprocessing"
   ]
  },
  {
   "cell_type": "code",
   "execution_count": 1,
   "id": "18088287",
   "metadata": {},
   "outputs": [],
   "source": [
    "import pandas as pd\n",
    "\n",
    "df1 = pd.read_csv(\"mpst_full_data.csv\") \n",
    "df2 = pd.read_csv(\"wiki_movie_plots_deduped.csv\")\n",
    "df3 = pd.read_csv(\"movie_plots_dataset_by_sidhant_yadav.csv\")\n",
    "df4 = pd.read_csv(\"movie.csv\")\n",
    "df_large_genres = pd.read_csv('movies.csv')"
   ]
  },
  {
   "cell_type": "code",
   "execution_count": 2,
   "id": "04099ad0",
   "metadata": {},
   "outputs": [],
   "source": [
    "def check_dataset_issues(df):\n",
    "    print(\"=== Dataset Quality Check ===\")\n",
    "    \n",
    "    print(\"\\n1. Missing Values (NaN/None):\")\n",
    "    null_counts = df.isnull().sum()\n",
    "    if null_counts.sum() == 0:\n",
    "        print(\"✅ No missing values found.\")\n",
    "    else:\n",
    "        print(\"Columns with missing values:\")\n",
    "        print(null_counts[null_counts > 0].to_string())\n",
    "    \n",
    "    print(\"\\n2. 'unknown' or 'n/a' values in text columns:\")\n",
    "    text_columns = df.select_dtypes(include='object').columns\n",
    "    if len(text_columns) == 0:\n",
    "        print(\"✅ No text columns to check.\")\n",
    "    else:\n",
    "        issues_found = False\n",
    "        for col in text_columns:\n",
    "            count = df[col].str.contains('unknown|n/a', case=False, na=False).sum()\n",
    "            if count > 0:\n",
    "                print(f\"⚠️ {col}: {count} instances of 'unknown/n/a'\")\n",
    "                issues_found = True\n",
    "        if not issues_found:\n",
    "            print(\"✅ No 'unknown' or 'n/a' values found.\")\n",
    "    \n",
    "    if 'genres' in df.columns:\n",
    "        print(\"\\n3. Empty genre lists:\")\n",
    "        empty_genres = df['genres'].apply(lambda x: len(x) == 0).sum()\n",
    "        if empty_genres == 0:\n",
    "            print(\"✅ No empty genre lists.\")\n",
    "        else:\n",
    "            print(f\"⚠️ {empty_genres} movies with empty genre lists\")\n",
    "    \n",
    "    print(\"\\n=== Check complete ===\")"
   ]
  },
  {
   "cell_type": "markdown",
   "id": "c3340dca",
   "metadata": {},
   "source": [
    "#### Preprocessing of `mpst_full_data.csv`"
   ]
  },
  {
   "cell_type": "code",
   "execution_count": 3,
   "id": "34f1cd87",
   "metadata": {},
   "outputs": [
    {
     "data": {
      "text/plain": [
       "(14828, 6)"
      ]
     },
     "execution_count": 3,
     "metadata": {},
     "output_type": "execute_result"
    }
   ],
   "source": [
    "df1.shape"
   ]
  },
  {
   "cell_type": "code",
   "execution_count": 4,
   "id": "2ccb93b9",
   "metadata": {},
   "outputs": [
    {
     "data": {
      "text/html": [
       "<div>\n",
       "<style scoped>\n",
       "    .dataframe tbody tr th:only-of-type {\n",
       "        vertical-align: middle;\n",
       "    }\n",
       "\n",
       "    .dataframe tbody tr th {\n",
       "        vertical-align: top;\n",
       "    }\n",
       "\n",
       "    .dataframe thead th {\n",
       "        text-align: right;\n",
       "    }\n",
       "</style>\n",
       "<table border=\"1\" class=\"dataframe\">\n",
       "  <thead>\n",
       "    <tr style=\"text-align: right;\">\n",
       "      <th></th>\n",
       "      <th>title</th>\n",
       "      <th>plot</th>\n",
       "      <th>genres</th>\n",
       "    </tr>\n",
       "  </thead>\n",
       "  <tbody>\n",
       "    <tr>\n",
       "      <th>0</th>\n",
       "      <td>I tre volti della paura</td>\n",
       "      <td>Note: this synopsis is for the orginal Italian...</td>\n",
       "      <td>[cult, horror, gothic, murder, atmospheric]</td>\n",
       "    </tr>\n",
       "    <tr>\n",
       "      <th>1</th>\n",
       "      <td>Dungeons &amp; Dragons: The Book of Vile Darkness</td>\n",
       "      <td>Two thousand years ago, Nhagruul the Foul, a s...</td>\n",
       "      <td>[violence]</td>\n",
       "    </tr>\n",
       "    <tr>\n",
       "      <th>2</th>\n",
       "      <td>The Shop Around the Corner</td>\n",
       "      <td>Matuschek's, a gift store in Budapest, is the ...</td>\n",
       "      <td>[romantic]</td>\n",
       "    </tr>\n",
       "    <tr>\n",
       "      <th>3</th>\n",
       "      <td>Mr. Holland's Opus</td>\n",
       "      <td>Glenn Holland, not a morning person by anyone'...</td>\n",
       "      <td>[inspiring, romantic, stupid, feel-good]</td>\n",
       "    </tr>\n",
       "    <tr>\n",
       "      <th>4</th>\n",
       "      <td>Scarface</td>\n",
       "      <td>In May 1980, a Cuban man named Tony Montana (A...</td>\n",
       "      <td>[cruelty, murder, dramatic, cult, violence, at...</td>\n",
       "    </tr>\n",
       "  </tbody>\n",
       "</table>\n",
       "</div>"
      ],
      "text/plain": [
       "                                           title  \\\n",
       "0                        I tre volti della paura   \n",
       "1  Dungeons & Dragons: The Book of Vile Darkness   \n",
       "2                     The Shop Around the Corner   \n",
       "3                             Mr. Holland's Opus   \n",
       "4                                       Scarface   \n",
       "\n",
       "                                                plot  \\\n",
       "0  Note: this synopsis is for the orginal Italian...   \n",
       "1  Two thousand years ago, Nhagruul the Foul, a s...   \n",
       "2  Matuschek's, a gift store in Budapest, is the ...   \n",
       "3  Glenn Holland, not a morning person by anyone'...   \n",
       "4  In May 1980, a Cuban man named Tony Montana (A...   \n",
       "\n",
       "                                              genres  \n",
       "0        [cult, horror, gothic, murder, atmospheric]  \n",
       "1                                         [violence]  \n",
       "2                                         [romantic]  \n",
       "3           [inspiring, romantic, stupid, feel-good]  \n",
       "4  [cruelty, murder, dramatic, cult, violence, at...  "
      ]
     },
     "execution_count": 4,
     "metadata": {},
     "output_type": "execute_result"
    }
   ],
   "source": [
    "df1 = df1.drop(columns=[\"imdb_id\", \"split\", \"synopsis_source\"])\n",
    "\n",
    "df1[\"tags\"] = (\n",
    "    df1[\"tags\"]\n",
    "    .str.split(\", \")\n",
    "    .apply(lambda x: [tag.lower().strip() for tag in x] if isinstance(x, list) else [])\n",
    ")\n",
    "\n",
    "df1 = df1.rename(columns={'title': 'title', 'plot_synopsis': 'plot', 'tags': 'genres'}) \n",
    "\n",
    "df1.head()"
   ]
  },
  {
   "cell_type": "code",
   "execution_count": 5,
   "id": "7ae39834",
   "metadata": {},
   "outputs": [
    {
     "name": "stdout",
     "output_type": "stream",
     "text": [
      "=== Dataset Quality Check ===\n",
      "\n",
      "1. Missing Values (NaN/None):\n",
      "✅ No missing values found.\n",
      "\n",
      "2. 'unknown' or 'n/a' values in text columns:\n",
      "⚠️ title: 6 instances of 'unknown/n/a'\n",
      "⚠️ plot: 1141 instances of 'unknown/n/a'\n",
      "\n",
      "3. Empty genre lists:\n",
      "✅ No empty genre lists.\n",
      "\n",
      "=== Check complete ===\n"
     ]
    }
   ],
   "source": [
    "check_dataset_issues(df1)"
   ]
  },
  {
   "cell_type": "markdown",
   "id": "91c0a179",
   "metadata": {},
   "source": [
    "#### Preprocessing of `wiki_movie_plots_deduped.csv`"
   ]
  },
  {
   "cell_type": "code",
   "execution_count": 6,
   "id": "4ad95a77",
   "metadata": {},
   "outputs": [
    {
     "data": {
      "text/plain": [
       "(34886, 8)"
      ]
     },
     "execution_count": 6,
     "metadata": {},
     "output_type": "execute_result"
    }
   ],
   "source": [
    "df2.shape"
   ]
  },
  {
   "cell_type": "code",
   "execution_count": 7,
   "id": "80e5b1e2",
   "metadata": {},
   "outputs": [
    {
     "data": {
      "text/html": [
       "<div>\n",
       "<style scoped>\n",
       "    .dataframe tbody tr th:only-of-type {\n",
       "        vertical-align: middle;\n",
       "    }\n",
       "\n",
       "    .dataframe tbody tr th {\n",
       "        vertical-align: top;\n",
       "    }\n",
       "\n",
       "    .dataframe thead th {\n",
       "        text-align: right;\n",
       "    }\n",
       "</style>\n",
       "<table border=\"1\" class=\"dataframe\">\n",
       "  <thead>\n",
       "    <tr style=\"text-align: right;\">\n",
       "      <th></th>\n",
       "      <th>title</th>\n",
       "      <th>genres</th>\n",
       "      <th>plot</th>\n",
       "    </tr>\n",
       "  </thead>\n",
       "  <tbody>\n",
       "    <tr>\n",
       "      <th>0</th>\n",
       "      <td>Kansas Saloon Smashers</td>\n",
       "      <td>[unknown]</td>\n",
       "      <td>A bartender is working at a saloon, serving dr...</td>\n",
       "    </tr>\n",
       "    <tr>\n",
       "      <th>1</th>\n",
       "      <td>Love by the Light of the Moon</td>\n",
       "      <td>[unknown]</td>\n",
       "      <td>The moon, painted with a smiling face hangs ov...</td>\n",
       "    </tr>\n",
       "    <tr>\n",
       "      <th>2</th>\n",
       "      <td>The Martyred Presidents</td>\n",
       "      <td>[unknown]</td>\n",
       "      <td>The film, just over a minute long, is composed...</td>\n",
       "    </tr>\n",
       "    <tr>\n",
       "      <th>3</th>\n",
       "      <td>Terrible Teddy, the Grizzly King</td>\n",
       "      <td>[unknown]</td>\n",
       "      <td>Lasting just 61 seconds and consisting of two ...</td>\n",
       "    </tr>\n",
       "    <tr>\n",
       "      <th>4</th>\n",
       "      <td>Jack and the Beanstalk</td>\n",
       "      <td>[unknown]</td>\n",
       "      <td>The earliest known adaptation of the classic f...</td>\n",
       "    </tr>\n",
       "  </tbody>\n",
       "</table>\n",
       "</div>"
      ],
      "text/plain": [
       "                              title     genres  \\\n",
       "0            Kansas Saloon Smashers  [unknown]   \n",
       "1     Love by the Light of the Moon  [unknown]   \n",
       "2           The Martyred Presidents  [unknown]   \n",
       "3  Terrible Teddy, the Grizzly King  [unknown]   \n",
       "4            Jack and the Beanstalk  [unknown]   \n",
       "\n",
       "                                                plot  \n",
       "0  A bartender is working at a saloon, serving dr...  \n",
       "1  The moon, painted with a smiling face hangs ov...  \n",
       "2  The film, just over a minute long, is composed...  \n",
       "3  Lasting just 61 seconds and consisting of two ...  \n",
       "4  The earliest known adaptation of the classic f...  "
      ]
     },
     "execution_count": 7,
     "metadata": {},
     "output_type": "execute_result"
    }
   ],
   "source": [
    "df2 = df2.drop(columns=[\"Release Year\", \"Origin/Ethnicity\", \"Director\", \"Cast\", \"Wiki Page\"])\n",
    "\n",
    "df2[\"Genre\"] = (\n",
    "    df2[\"Genre\"]\n",
    "    .str.split(\", \")\n",
    "    .apply(lambda x: [tag.lower().strip() for tag in x] if isinstance(x, list) else [])\n",
    ")\n",
    "\n",
    "df2 = df2.rename(columns={'Title': 'title', 'Plot': 'plot', 'Genre': 'genres'}) \n",
    "\n",
    "df2.head()"
   ]
  },
  {
   "cell_type": "code",
   "execution_count": 8,
   "id": "123fde3a",
   "metadata": {},
   "outputs": [
    {
     "name": "stdout",
     "output_type": "stream",
     "text": [
      "=== Dataset Quality Check ===\n",
      "\n",
      "1. Missing Values (NaN/None):\n",
      "✅ No missing values found.\n",
      "\n",
      "2. 'unknown' or 'n/a' values in text columns:\n",
      "⚠️ title: 18 instances of 'unknown/n/a'\n",
      "⚠️ plot: 1335 instances of 'unknown/n/a'\n",
      "\n",
      "3. Empty genre lists:\n",
      "✅ No empty genre lists.\n",
      "\n",
      "=== Check complete ===\n"
     ]
    }
   ],
   "source": [
    "check_dataset_issues(df2)"
   ]
  },
  {
   "cell_type": "markdown",
   "id": "7bbbefd4",
   "metadata": {},
   "source": [
    "#### Preprocessing of `movie_plots_dataset_by_sidhant_yadav.csv`"
   ]
  },
  {
   "cell_type": "code",
   "execution_count": 9,
   "id": "50bc4e79",
   "metadata": {},
   "outputs": [
    {
     "data": {
      "text/plain": [
       "(92447, 3)"
      ]
     },
     "execution_count": 9,
     "metadata": {},
     "output_type": "execute_result"
    }
   ],
   "source": [
    "df3.shape"
   ]
  },
  {
   "cell_type": "code",
   "execution_count": 10,
   "id": "0940e6e9",
   "metadata": {},
   "outputs": [
    {
     "data": {
      "text/html": [
       "<div>\n",
       "<style scoped>\n",
       "    .dataframe tbody tr th:only-of-type {\n",
       "        vertical-align: middle;\n",
       "    }\n",
       "\n",
       "    .dataframe tbody tr th {\n",
       "        vertical-align: top;\n",
       "    }\n",
       "\n",
       "    .dataframe thead th {\n",
       "        text-align: right;\n",
       "    }\n",
       "</style>\n",
       "<table border=\"1\" class=\"dataframe\">\n",
       "  <thead>\n",
       "    <tr style=\"text-align: right;\">\n",
       "      <th></th>\n",
       "      <th>title</th>\n",
       "      <th>plot</th>\n",
       "    </tr>\n",
       "  </thead>\n",
       "  <tbody>\n",
       "    <tr>\n",
       "      <th>0</th>\n",
       "      <td>Kansas Saloon Smashers</td>\n",
       "      <td>A bartender is working at a saloon, serving dr...</td>\n",
       "    </tr>\n",
       "    <tr>\n",
       "      <th>1</th>\n",
       "      <td>Love by the Light of the Moon</td>\n",
       "      <td>The moon, painted with a smiling face hangs ov...</td>\n",
       "    </tr>\n",
       "    <tr>\n",
       "      <th>2</th>\n",
       "      <td>The Martyred Presidents</td>\n",
       "      <td>The film, just over a minute long, is composed...</td>\n",
       "    </tr>\n",
       "    <tr>\n",
       "      <th>3</th>\n",
       "      <td>Terrible Teddy, the Grizzly King</td>\n",
       "      <td>Lasting just 61 seconds and consisting of two ...</td>\n",
       "    </tr>\n",
       "    <tr>\n",
       "      <th>4</th>\n",
       "      <td>Jack and the Beanstalk</td>\n",
       "      <td>The earliest known adaptation of the classic f...</td>\n",
       "    </tr>\n",
       "  </tbody>\n",
       "</table>\n",
       "</div>"
      ],
      "text/plain": [
       "                              title  \\\n",
       "0            Kansas Saloon Smashers   \n",
       "1     Love by the Light of the Moon   \n",
       "2           The Martyred Presidents   \n",
       "3  Terrible Teddy, the Grizzly King   \n",
       "4            Jack and the Beanstalk   \n",
       "\n",
       "                                                plot  \n",
       "0  A bartender is working at a saloon, serving dr...  \n",
       "1  The moon, painted with a smiling face hangs ov...  \n",
       "2  The film, just over a minute long, is composed...  \n",
       "3  Lasting just 61 seconds and consisting of two ...  \n",
       "4  The earliest known adaptation of the classic f...  "
      ]
     },
     "execution_count": 10,
     "metadata": {},
     "output_type": "execute_result"
    }
   ],
   "source": [
    "df3 = df3.drop(columns=[\"Plot\"])\n",
    "\n",
    "df3 = df3.rename(columns={'id': 'title', 'Name': 'plot'}) \n",
    "\n",
    "df3.head()"
   ]
  },
  {
   "cell_type": "code",
   "execution_count": 11,
   "id": "0abe4c48",
   "metadata": {},
   "outputs": [
    {
     "name": "stdout",
     "output_type": "stream",
     "text": [
      "=== Dataset Quality Check ===\n",
      "\n",
      "1. Missing Values (NaN/None):\n",
      "Columns with missing values:\n",
      "title    130\n",
      "plot     184\n",
      "\n",
      "2. 'unknown' or 'n/a' values in text columns:\n",
      "⚠️ title: 24 instances of 'unknown/n/a'\n",
      "⚠️ plot: 3732 instances of 'unknown/n/a'\n",
      "\n",
      "=== Check complete ===\n"
     ]
    }
   ],
   "source": [
    "check_dataset_issues(df3)"
   ]
  },
  {
   "cell_type": "markdown",
   "id": "f4a52947",
   "metadata": {},
   "source": [
    "#### Preprocessing of `movie.csv`"
   ]
  },
  {
   "cell_type": "code",
   "execution_count": 12,
   "id": "095ffc72",
   "metadata": {},
   "outputs": [
    {
     "data": {
      "text/plain": [
       "(8980, 8)"
      ]
     },
     "execution_count": 12,
     "metadata": {},
     "output_type": "execute_result"
    }
   ],
   "source": [
    "df4.shape"
   ]
  },
  {
   "cell_type": "code",
   "execution_count": 13,
   "id": "266ae024",
   "metadata": {},
   "outputs": [
    {
     "data": {
      "text/html": [
       "<div>\n",
       "<style scoped>\n",
       "    .dataframe tbody tr th:only-of-type {\n",
       "        vertical-align: middle;\n",
       "    }\n",
       "\n",
       "    .dataframe tbody tr th {\n",
       "        vertical-align: top;\n",
       "    }\n",
       "\n",
       "    .dataframe thead th {\n",
       "        text-align: right;\n",
       "    }\n",
       "</style>\n",
       "<table border=\"1\" class=\"dataframe\">\n",
       "  <thead>\n",
       "    <tr style=\"text-align: right;\">\n",
       "      <th></th>\n",
       "      <th>title</th>\n",
       "      <th>plot</th>\n",
       "    </tr>\n",
       "  </thead>\n",
       "  <tbody>\n",
       "    <tr>\n",
       "      <th>0</th>\n",
       "      <td>The Shawshank Redemption</td>\n",
       "      <td>Framed in the 1940s for the double murder of h...</td>\n",
       "    </tr>\n",
       "    <tr>\n",
       "      <th>1</th>\n",
       "      <td>The Godfather</td>\n",
       "      <td>Spanning the years 1945 to 1955, a chronicle o...</td>\n",
       "    </tr>\n",
       "    <tr>\n",
       "      <th>2</th>\n",
       "      <td>The Godfather Part II</td>\n",
       "      <td>In the continuing saga of the Corleone crime f...</td>\n",
       "    </tr>\n",
       "    <tr>\n",
       "      <th>3</th>\n",
       "      <td>Schindler's List</td>\n",
       "      <td>The true story of how businessman Oskar Schind...</td>\n",
       "    </tr>\n",
       "    <tr>\n",
       "      <th>4</th>\n",
       "      <td>12 Angry Men</td>\n",
       "      <td>The defense and the prosecution have rested an...</td>\n",
       "    </tr>\n",
       "  </tbody>\n",
       "</table>\n",
       "</div>"
      ],
      "text/plain": [
       "                      title                                               plot\n",
       "0  The Shawshank Redemption  Framed in the 1940s for the double murder of h...\n",
       "1             The Godfather  Spanning the years 1945 to 1955, a chronicle o...\n",
       "2     The Godfather Part II  In the continuing saga of the Corleone crime f...\n",
       "3          Schindler's List  The true story of how businessman Oskar Schind...\n",
       "4              12 Angry Men  The defense and the prosecution have rested an..."
      ]
     },
     "execution_count": 13,
     "metadata": {},
     "output_type": "execute_result"
    }
   ],
   "source": [
    "df4 = df4[['title', 'overview']]\n",
    "\n",
    "df4 = df4.rename(columns={'overview': 'plot'}) \n",
    "\n",
    "df4.head()"
   ]
  },
  {
   "cell_type": "markdown",
   "id": "da5669ec",
   "metadata": {},
   "source": [
    "#### Preprocessing of `movies.csv`"
   ]
  },
  {
   "cell_type": "code",
   "execution_count": 15,
   "id": "fecae4d9",
   "metadata": {},
   "outputs": [
    {
     "data": {
      "text/html": [
       "<div>\n",
       "<style scoped>\n",
       "    .dataframe tbody tr th:only-of-type {\n",
       "        vertical-align: middle;\n",
       "    }\n",
       "\n",
       "    .dataframe tbody tr th {\n",
       "        vertical-align: top;\n",
       "    }\n",
       "\n",
       "    .dataframe thead th {\n",
       "        text-align: right;\n",
       "    }\n",
       "</style>\n",
       "<table border=\"1\" class=\"dataframe\">\n",
       "  <thead>\n",
       "    <tr style=\"text-align: right;\">\n",
       "      <th></th>\n",
       "      <th>title</th>\n",
       "      <th>genres</th>\n",
       "      <th>plot</th>\n",
       "    </tr>\n",
       "  </thead>\n",
       "  <tbody>\n",
       "    <tr>\n",
       "      <th>0</th>\n",
       "      <td>Meg 2: The Trench</td>\n",
       "      <td>[action, science fiction, horror]</td>\n",
       "      <td>An exploratory dive into the deepest depths of...</td>\n",
       "    </tr>\n",
       "    <tr>\n",
       "      <th>1</th>\n",
       "      <td>The Pope's Exorcist</td>\n",
       "      <td>[horror, mystery, thriller]</td>\n",
       "      <td>Father Gabriele Amorth Chief Exorcist of the V...</td>\n",
       "    </tr>\n",
       "    <tr>\n",
       "      <th>2</th>\n",
       "      <td>Deadpool &amp; Wolverine</td>\n",
       "      <td>[action, comedy, science fiction]</td>\n",
       "      <td>A listless Wade Wilson toils away in civilian ...</td>\n",
       "    </tr>\n",
       "    <tr>\n",
       "      <th>3</th>\n",
       "      <td>Transformers: Rise of the Beasts</td>\n",
       "      <td>[action, adventure, science fiction]</td>\n",
       "      <td>When a new threat capable of destroying the en...</td>\n",
       "    </tr>\n",
       "    <tr>\n",
       "      <th>4</th>\n",
       "      <td>Dune: Part Two</td>\n",
       "      <td>[science fiction, adventure]</td>\n",
       "      <td>Follow the mythic journey of Paul Atreides as ...</td>\n",
       "    </tr>\n",
       "  </tbody>\n",
       "</table>\n",
       "</div>"
      ],
      "text/plain": [
       "                              title                                genres  \\\n",
       "0                 Meg 2: The Trench     [action, science fiction, horror]   \n",
       "1               The Pope's Exorcist           [horror, mystery, thriller]   \n",
       "2              Deadpool & Wolverine     [action, comedy, science fiction]   \n",
       "3  Transformers: Rise of the Beasts  [action, adventure, science fiction]   \n",
       "4                    Dune: Part Two          [science fiction, adventure]   \n",
       "\n",
       "                                                plot  \n",
       "0  An exploratory dive into the deepest depths of...  \n",
       "1  Father Gabriele Amorth Chief Exorcist of the V...  \n",
       "2  A listless Wade Wilson toils away in civilian ...  \n",
       "3  When a new threat capable of destroying the en...  \n",
       "4  Follow the mythic journey of Paul Atreides as ...  "
      ]
     },
     "execution_count": 15,
     "metadata": {},
     "output_type": "execute_result"
    }
   ],
   "source": [
    "df_large_genres = df_large_genres[['title', 'genres', 'overview']]\n",
    "\n",
    "df_large_genres['genres'] = df_large_genres['genres'].str.lower().str.split('-')\n",
    "\n",
    "df_large_genres = df_large_genres.rename(columns={'overview': 'plot'}) \n",
    "\n",
    "df_large_genres.head()"
   ]
  },
  {
   "cell_type": "markdown",
   "id": "e0a9b6a7",
   "metadata": {},
   "source": [
    "#### Combining datasets"
   ]
  },
  {
   "cell_type": "code",
   "execution_count": 16,
   "id": "6c65fa44",
   "metadata": {},
   "outputs": [],
   "source": [
    "def clean_dataset(df):\n",
    "    mask = (\n",
    "        df['title'].isna() |\n",
    "        df['plot'].isna() |\n",
    "        df['title'].str.lower().str.contains('unknown|n/a', na=True) |\n",
    "        df['plot'].str.lower().str.contains('unknown|n/a', na=True)\n",
    "    )\n",
    "    return df[~mask]"
   ]
  },
  {
   "cell_type": "code",
   "execution_count": 20,
   "id": "8ec80641",
   "metadata": {},
   "outputs": [],
   "source": [
    "import numpy as np\n",
    "\n",
    "def fill_empty_genres(x):\n",
    "    if isinstance(x, (list, np.ndarray)):\n",
    "        return x if len(x) > 0 else ['']\n",
    "    elif pd.isna(x):\n",
    "        return ['']\n",
    "    else:\n",
    "        return x"
   ]
  },
  {
   "cell_type": "code",
   "execution_count": 29,
   "id": "9095f644",
   "metadata": {},
   "outputs": [],
   "source": [
    "import pandas as pd\n",
    "\n",
    "def process_and_combine_datasets(df_large, df1, df2, df3, df4):    \n",
    "    print(\"Adding genres to third and forth datasets...\")\n",
    "    genre_mapping = df_large.set_index('title')['genres'].to_dict()\n",
    "    \n",
    "    df3['genres'] = df3['title'].map(genre_mapping)\n",
    "    df3['genres'] = df3['genres'].apply(fill_empty_genres)\n",
    "    \n",
    "    df4['genres'] = df4['title'].map(genre_mapping)\n",
    "    df4['genres'] = df4['genres'].apply(fill_empty_genres)\n",
    "    \n",
    "    print(\"Cleaning datasets...\")\n",
    "    df1 = clean_dataset(df1)\n",
    "    df2 = clean_dataset(df2)\n",
    "    df3 = clean_dataset(df3)\n",
    "    df4 = clean_dataset(df4)\n",
    "    \n",
    "    print(\"Combining datasets...\")\n",
    "    combined = pd.concat([df1, df2, df3, df4], ignore_index=True)\n",
    "    combined = combined.drop_duplicates(['title'])\n",
    "    \n",
    "    print(f\"Final combined dataset shape: {combined.shape}\")\n",
    "    return combined"
   ]
  },
  {
   "cell_type": "code",
   "execution_count": 30,
   "id": "56e3cd23",
   "metadata": {},
   "outputs": [
    {
     "name": "stdout",
     "output_type": "stream",
     "text": [
      "Adding genres to third and forth datasets...\n",
      "Cleaning datasets...\n",
      "Combining datasets...\n",
      "Final combined dataset shape: (41151, 3)\n"
     ]
    }
   ],
   "source": [
    "combined_df = process_and_combine_datasets(df_large_genres, df1, df2, df3, df4)"
   ]
  },
  {
   "cell_type": "code",
   "execution_count": 31,
   "id": "c9927e0d",
   "metadata": {},
   "outputs": [
    {
     "name": "stdout",
     "output_type": "stream",
     "text": [
      "=== Dataset Quality Check ===\n",
      "\n",
      "1. Missing Values (NaN/None):\n",
      "✅ No missing values found.\n",
      "\n",
      "2. 'unknown' or 'n/a' values in text columns:\n",
      "✅ No 'unknown' or 'n/a' values found.\n",
      "\n",
      "3. Empty genre lists:\n",
      "✅ No empty genre lists.\n",
      "\n",
      "=== Check complete ===\n"
     ]
    }
   ],
   "source": [
    "check_dataset_issues(combined_df)"
   ]
  },
  {
   "cell_type": "code",
   "execution_count": 32,
   "id": "3f1e1955",
   "metadata": {},
   "outputs": [],
   "source": [
    "import heapq\n",
    "import pandas as pd\n",
    "\n",
    "def get_top_descriptions(main_df, exclude_df, n, batch_size=100000):\n",
    "    exclude_titles = set(exclude_df['title'])\n",
    "    \n",
    "    counter = 0\n",
    "    top_descriptions = []\n",
    "    \n",
    "    for i in range(0, len(main_df), batch_size):\n",
    "        batch = main_df.iloc[i:i+batch_size]\n",
    "\n",
    "        batch = clean_dataset(batch)\n",
    "        \n",
    "        filtered_batch = batch[~batch['title'].isin(exclude_titles)]\n",
    "        \n",
    "        for _, row in filtered_batch.iterrows():\n",
    "            row_dict = row.to_dict()\n",
    "            plot = row_dict.get('plot', '')\n",
    "            \n",
    "            length = len(str(plot))\n",
    "            \n",
    "            if len(top_descriptions) < n:\n",
    "                heapq.heappush(top_descriptions, (length, counter, row_dict))\n",
    "            else:\n",
    "                heapq.heappushpop(top_descriptions, (length, counter, row_dict))\n",
    "            counter += 1\n",
    "    \n",
    "    top_descriptions.sort(reverse=True, key=lambda x: x[0])\n",
    "    \n",
    "    result_df = pd.DataFrame([row_dict for (length, counter, row_dict) in top_descriptions])\n",
    "    \n",
    "    return result_df[main_df.columns]"
   ]
  },
  {
   "cell_type": "code",
   "execution_count": 33,
   "id": "0cd92b79",
   "metadata": {},
   "outputs": [
    {
     "name": "stdout",
     "output_type": "stream",
     "text": [
      "Combining datasets...\n",
      "Final combined dataset shape: (50000, 3)\n",
      "=== Dataset Quality Check ===\n",
      "\n",
      "1. Missing Values (NaN/None):\n",
      "✅ No missing values found.\n",
      "\n",
      "2. 'unknown' or 'n/a' values in text columns:\n",
      "✅ No 'unknown' or 'n/a' values found.\n",
      "\n",
      "3. Empty genre lists:\n",
      "✅ No empty genre lists.\n",
      "\n",
      "=== Check complete ===\n"
     ]
    }
   ],
   "source": [
    "print(\"Combining datasets...\")\n",
    "additional_df = get_top_descriptions(df_large_genres, combined_df, 50000-combined_df.shape[0])\n",
    "\n",
    "final_df = pd.concat([combined_df, additional_df], ignore_index=True)\n",
    "\n",
    "final_df['genres'] = final_df['genres'].apply(fill_empty_genres)\n",
    "\n",
    "print(f\"Final combined dataset shape: {final_df.shape}\")\n",
    "\n",
    "check_dataset_issues(final_df)"
   ]
  },
  {
   "cell_type": "code",
   "execution_count": 34,
   "id": "e411d070",
   "metadata": {},
   "outputs": [],
   "source": [
    "final_df.to_csv('final_dataset.csv', index=False)"
   ]
  },
  {
   "cell_type": "code",
   "execution_count": null,
   "id": "9f905040",
   "metadata": {},
   "outputs": [
    {
     "data": {
      "text/html": [
       "<div>\n",
       "<style scoped>\n",
       "    .dataframe tbody tr th:only-of-type {\n",
       "        vertical-align: middle;\n",
       "    }\n",
       "\n",
       "    .dataframe tbody tr th {\n",
       "        vertical-align: top;\n",
       "    }\n",
       "\n",
       "    .dataframe thead th {\n",
       "        text-align: right;\n",
       "    }\n",
       "</style>\n",
       "<table border=\"1\" class=\"dataframe\">\n",
       "  <thead>\n",
       "    <tr style=\"text-align: right;\">\n",
       "      <th></th>\n",
       "      <th>title</th>\n",
       "      <th>plot</th>\n",
       "      <th>genres</th>\n",
       "    </tr>\n",
       "  </thead>\n",
       "  <tbody>\n",
       "    <tr>\n",
       "      <th>0</th>\n",
       "      <td>Dungeons &amp; Dragons: The Book of Vile Darkness</td>\n",
       "      <td>Two thousand years ago, Nhagruul the Foul, a s...</td>\n",
       "      <td>['violence']</td>\n",
       "    </tr>\n",
       "    <tr>\n",
       "      <th>1</th>\n",
       "      <td>Scarface</td>\n",
       "      <td>In May 1980, a Cuban man named Tony Montana (A...</td>\n",
       "      <td>['cruelty', 'murder', 'dramatic', 'cult', 'vio...</td>\n",
       "    </tr>\n",
       "    <tr>\n",
       "      <th>2</th>\n",
       "      <td>A Single Man</td>\n",
       "      <td>George Falconer (Colin Firth) approaches a car...</td>\n",
       "      <td>['romantic', 'queer', 'flashback']</td>\n",
       "    </tr>\n",
       "    <tr>\n",
       "      <th>3</th>\n",
       "      <td>Baise-moi</td>\n",
       "      <td>Baise-moi tells the story of Nadine and Manu w...</td>\n",
       "      <td>['gothic', 'cruelty', 'violence', 'cult', 'rev...</td>\n",
       "    </tr>\n",
       "    <tr>\n",
       "      <th>4</th>\n",
       "      <td>Flightplan</td>\n",
       "      <td>Kyle Pratt (Jodie Foster) is a propulsion engi...</td>\n",
       "      <td>['mystery', 'suspenseful', 'action', 'murder',...</td>\n",
       "    </tr>\n",
       "  </tbody>\n",
       "</table>\n",
       "</div>"
      ],
      "text/plain": [
       "                                           title  \\\n",
       "0  Dungeons & Dragons: The Book of Vile Darkness   \n",
       "1                                       Scarface   \n",
       "2                                   A Single Man   \n",
       "3                                      Baise-moi   \n",
       "4                                     Flightplan   \n",
       "\n",
       "                                                plot  \\\n",
       "0  Two thousand years ago, Nhagruul the Foul, a s...   \n",
       "1  In May 1980, a Cuban man named Tony Montana (A...   \n",
       "2  George Falconer (Colin Firth) approaches a car...   \n",
       "3  Baise-moi tells the story of Nadine and Manu w...   \n",
       "4  Kyle Pratt (Jodie Foster) is a propulsion engi...   \n",
       "\n",
       "                                              genres  \n",
       "0                                       ['violence']  \n",
       "1  ['cruelty', 'murder', 'dramatic', 'cult', 'vio...  \n",
       "2                 ['romantic', 'queer', 'flashback']  \n",
       "3  ['gothic', 'cruelty', 'violence', 'cult', 'rev...  \n",
       "4  ['mystery', 'suspenseful', 'action', 'murder',...  "
      ]
     },
     "execution_count": 2,
     "metadata": {},
     "output_type": "execute_result"
    }
   ],
   "source": [
    "final_df = pd.read_csv('final_dataset.csv')\n",
    "\n",
    "final_df.head()"
   ]
  }
 ],
 "metadata": {
  "kernelspec": {
   "display_name": "base",
   "language": "python",
   "name": "python3"
  },
  "language_info": {
   "codemirror_mode": {
    "name": "ipython",
    "version": 3
   },
   "file_extension": ".py",
   "mimetype": "text/x-python",
   "name": "python",
   "nbconvert_exporter": "python",
   "pygments_lexer": "ipython3",
   "version": "3.12.7"
  }
 },
 "nbformat": 4,
 "nbformat_minor": 5
}
