{
 "cells": [
  {
   "cell_type": "markdown",
   "id": "c3849173",
   "metadata": {},
   "source": [
    "# Embeddings\n",
    "\n",
    "We implement separate embeddings with weights for the **`title`**, **`plot`** and **`genres`** fields using the *all-MiniLM-L6-v2* model."
   ]
  },
  {
   "cell_type": "code",
   "execution_count": 1,
   "id": "66eb9952",
   "metadata": {},
   "outputs": [
    {
     "name": "stdout",
     "output_type": "stream",
     "text": [
      "WARNING:tensorflow:From c:\\Users\\User\\anaconda3\\Lib\\site-packages\\tf_keras\\src\\losses.py:2976: The name tf.losses.sparse_softmax_cross_entropy is deprecated. Please use tf.compat.v1.losses.sparse_softmax_cross_entropy instead.\n",
      "\n"
     ]
    }
   ],
   "source": [
    "import pandas as pd\n",
    "from sentence_transformers import SentenceTransformer\n",
    "import numpy as np\n",
    "from sklearn.metrics.pairwise import cosine_similarity\n",
    "from typing import List, Dict, Union"
   ]
  },
  {
   "cell_type": "code",
   "execution_count": 8,
   "id": "c73dad53",
   "metadata": {},
   "outputs": [],
   "source": [
    "df = pd.read_csv('final_dataset.csv')"
   ]
  },
  {
   "cell_type": "code",
   "execution_count": 9,
   "id": "67e72dea",
   "metadata": {},
   "outputs": [],
   "source": [
    "df['genres_str'] = df['genres'].apply(lambda x: ' '.join(x))"
   ]
  },
  {
   "cell_type": "code",
   "execution_count": 10,
   "id": "17fe26af",
   "metadata": {},
   "outputs": [],
   "source": [
    "model = SentenceTransformer('all-MiniLM-L6-v2')\n",
    "\n",
    "title_emb = model.encode(df['title'].tolist(), convert_to_tensor=True)\n",
    "plot_emb = model.encode(df['plot'].tolist(), convert_to_tensor=True)\n",
    "genres_emb = model.encode(df['genres_str'].tolist(), convert_to_tensor=True)"
   ]
  },
  {
   "cell_type": "markdown",
   "id": "b0a4de42",
   "metadata": {},
   "source": [
    "### Normalization and weighing\n",
    "\n",
    "The weights can be adjusted depending on the importance of the fields (for example, `plot` is more important than `title`):"
   ]
  },
  {
   "cell_type": "code",
   "execution_count": 11,
   "id": "1aa08b67",
   "metadata": {},
   "outputs": [],
   "source": [
    "weights = {\n",
    "    'title': 0.1,\n",
    "    'plot': 0.6,\n",
    "    'genres': 0.3\n",
    "}\n",
    "\n",
    "title_emb = title_emb / np.linalg.norm(title_emb, axis=1, keepdims=True)\n",
    "plot_emb = plot_emb / np.linalg.norm(plot_emb, axis=1, keepdims=True)\n",
    "genres_emb = genres_emb / np.linalg.norm(genres_emb, axis=1, keepdims=True)\n",
    "\n",
    "combined_emb = weights['title'] * title_emb + weights['plot'] * plot_emb + weights['genres'] * genres_emb"
   ]
  },
  {
   "cell_type": "code",
   "execution_count": 12,
   "id": "d2e6c0e8",
   "metadata": {},
   "outputs": [],
   "source": [
    "np.save('movie_embeddings.npy', combined_emb)"
   ]
  }
 ],
 "metadata": {
  "kernelspec": {
   "display_name": "base",
   "language": "python",
   "name": "python3"
  },
  "language_info": {
   "codemirror_mode": {
    "name": "ipython",
    "version": 3
   },
   "file_extension": ".py",
   "mimetype": "text/x-python",
   "name": "python",
   "nbconvert_exporter": "python",
   "pygments_lexer": "ipython3",
   "version": "3.12.7"
  }
 },
 "nbformat": 4,
 "nbformat_minor": 5
}
