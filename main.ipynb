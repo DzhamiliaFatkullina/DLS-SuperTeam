{
 "cells": [
  {
   "cell_type": "code",
   "execution_count": null,
   "id": "850d7aef",
   "metadata": {},
   "outputs": [
    {
     "name": "stdout",
     "output_type": "stream",
     "text": [
      "Dataset URL: https://www.kaggle.com/datasets/jrobischon/wikipedia-movie-plots\n",
      "License(s): CC-BY-SA-4.0\n",
      "Dataset URL: https://www.kaggle.com/datasets/cryptexcode/mpst-movie-plot-synopses-with-tags\n",
      "License(s): CC-BY-SA-4.0\n"
     ]
    }
   ],
   "source": [
    "# !kaggle datasets download jrobischon/wikipedia-movie-plots\n",
    "# !kaggle datasets download cryptexcode/mpst-movie-plot-synopses-with-tags"
   ]
  },
  {
   "cell_type": "code",
   "execution_count": null,
   "id": "bfcc43ec",
   "metadata": {},
   "outputs": [
    {
     "name": "stdout",
     "output_type": "stream",
     "text": [
      "mpst-movie-plot-synopses-with-tags.zip unziped!\n",
      "wikipedia-movie-plots.zip unziped!\n"
     ]
    }
   ],
   "source": [
    "# import zipfile\n",
    "# import os\n",
    "\n",
    "# zip_files = [\"mpst-movie-plot-synopses-with-tags.zip\", \"wikipedia-movie-plots.zip\"]\n",
    "\n",
    "# for zip_file in zip_files:\n",
    "#     zip_path = os.path.join(os.getcwd(), zip_file)\n",
    "    \n",
    "#     if not os.path.exists(zip_path):\n",
    "#         print(f\"{zip_file} not found!\")\n",
    "#         continue\n",
    "    \n",
    "#     with zipfile.ZipFile(zip_path, 'r') as zip_ref:\n",
    "#         zip_ref.extractall(os.getcwd()) \n",
    "#         print(f\"{zip_file} unziped!\")"
   ]
  },
  {
   "cell_type": "code",
   "execution_count": null,
   "id": "8c278731",
   "metadata": {},
   "outputs": [
    {
     "data": {
      "text/plain": [
       "(49714, 2)"
      ]
     },
     "execution_count": 8,
     "metadata": {},
     "output_type": "execute_result"
    }
   ],
   "source": [
    "import pandas as pd\n",
    "import os\n",
    "\n",
    "df1 = pd.read_csv(\"mpst_full_data.csv\") \n",
    "df2 = pd.read_csv(\"wiki_movie_plots_deduped.csv\") \n",
    "\n",
    "df1 = df1.rename(columns={'title': 'title', 'plot_synopsis': 'plot'}) \n",
    "df2 = df2.rename(columns={'Title': 'title', 'Plot': 'plot'}) \n",
    "\n",
    "df1 = df1[['title', 'plot']]\n",
    "df2 = df2[['title', 'plot']] \n",
    "\n",
    "combined_df = pd.concat([df1, df2], ignore_index=True)\n",
    "\n",
    "final_df = combined_df.drop_duplicates(subset='title', keep='first')\n",
    "\n",
    "combined_df.shape"
   ]
  },
  {
   "cell_type": "code",
   "execution_count": 12,
   "id": "788f5dfc",
   "metadata": {},
   "outputs": [
    {
     "name": "stdout",
     "output_type": "stream",
     "text": [
      "Movie: This Rebel Breed, Similarity: 0.6487\n",
      "Movie: Buying Time, Similarity: 0.6411\n",
      "Movie: Traffic, Similarity: 0.6043\n",
      "Movie: Port of New York, Similarity: 0.5899\n",
      "Movie: Johnny Stool Pigeon, Similarity: 0.5810\n"
     ]
    }
   ],
   "source": [
    "from sklearn.metrics.pairwise import cosine_similarity\n",
    "from sentence_transformers import SentenceTransformer\n",
    "import numpy as np\n",
    "\n",
    "model = SentenceTransformer('all-MiniLM-L6-v2')\n",
    "embeddings = model.encode(final_df['plot'].tolist(), convert_to_tensor=False)\n",
    "\n",
    "query = \"Crime drama about drug cartels\"\n",
    "query_embedding = model.encode(query, convert_to_tensor=False).reshape(1, -1)\n",
    "\n",
    "cos_scores = cosine_similarity(query_embedding, embeddings)\n",
    "top_results = np.argsort(-cos_scores.flatten())[:5]\n",
    "\n",
    "for idx in top_results:\n",
    "    print(f\"Movie: {final_df.iloc[idx]['title']}, Similarity: {cos_scores[0, idx]:.4f}\")"
   ]
  },
  {
   "cell_type": "code",
   "execution_count": null,
   "id": "200bba25",
   "metadata": {},
   "outputs": [],
   "source": [
    "def precision_at_k(relevant, retrieved, k):\n",
    "    retrieved_at_k = retrieved[:k]\n",
    "    relevant_set = set(relevant)\n",
    "    retrieved_set = set(retrieved_at_k)\n",
    "    return len(relevant_set & retrieved_set) / k if k > 0 else 0\n",
    "\n",
    "def recall_at_k(relevant, retrieved, k):\n",
    "    retrieved_at_k = retrieved[:k]\n",
    "    relevant_set = set(relevant)\n",
    "    retrieved_set = set(retrieved_at_k)\n",
    "    return len(relevant_set & retrieved_set) / len(relevant_set) if len(relevant_set) > 0 else 0\n",
    "\n",
    "def average_precision(relevant, retrieved):\n",
    "    relevant_set = set(relevant)\n",
    "    ap = 0.0\n",
    "    num_relevant = 0\n",
    "    \n",
    "    for i, doc_id in enumerate(retrieved):\n",
    "        if doc_id in relevant_set:\n",
    "            num_relevant += 1\n",
    "            precision = num_relevant / (i + 1)\n",
    "            ap += precision\n",
    "    \n",
    "    return ap / len(relevant_set) if len(relevant_set) > 0 else 0\n",
    "\n",
    "def mean_average_precision(queries_results):\n",
    "    return np.mean([ap for _, ap in queries_results])\n",
    "\n",
    "def normalized_dcg(relevant, retrieved, k, relevances=None):\n",
    "    if not relevant:\n",
    "        return 0.0\n",
    "\n",
    "    # Binary relevance if not provided\n",
    "    if relevances is None:\n",
    "        relevances = {doc_id: 1 for doc_id in relevant}\n",
    "    \n",
    "    # DCG\n",
    "    dcg = 0.0\n",
    "    for i, doc_id in enumerate(retrieved[:k]):\n",
    "        rel = relevances.get(doc_id, 0)\n",
    "        if i == 0:\n",
    "            dcg += rel\n",
    "        else:\n",
    "            dcg += rel / np.log2(i + 1)\n",
    "    \n",
    "    # Ideal DCG\n",
    "    ideal_relevances = sorted(relevances.values(), reverse=True)[:k]\n",
    "    idcg = 0.0\n",
    "    for i, rel in enumerate(ideal_relevances):\n",
    "        if i == 0:\n",
    "            idcg += rel\n",
    "        else:\n",
    "            idcg += rel / np.log2(i + 1)\n",
    "    \n",
    "    return dcg / idcg if idcg > 0 else 0"
   ]
  }
 ],
 "metadata": {
  "kernelspec": {
   "display_name": "Python 3",
   "language": "python",
   "name": "python3"
  },
  "language_info": {
   "codemirror_mode": {
    "name": "ipython",
    "version": 3
   },
   "file_extension": ".py",
   "mimetype": "text/x-python",
   "name": "python",
   "nbconvert_exporter": "python",
   "pygments_lexer": "ipython3",
   "version": "3.12.3"
  }
 },
 "nbformat": 4,
 "nbformat_minor": 5
}
